{
  "cells": [
    {
      "cell_type": "markdown",
      "metadata": {
        "id": "aCZBFzjClURz"
      },
      "source": [
        "# Convert a tensorflow model for the generic inference runner\n",
        "\n",
        "\n"
      ]
    },
    {
      "cell_type": "markdown",
      "metadata": {},
      "source": [
        "### Install Python Packages required\n",
        "\n",
        "Run pip to install Tensorflow etc. into the current environment."
      ]
    },
    {
      "cell_type": "code",
      "execution_count": null,
      "metadata": {},
      "outputs": [],
      "source": [
        "%pip install ethos_u-vela"
      ]
    },
    {
      "cell_type": "code",
      "execution_count": null,
      "metadata": {
        "id": "j1FB4ieeg0lw"
      },
      "outputs": [],
      "source": [
        "import os\n",
        "import re\n",
        "\n",
        "def sanitize_name(name):\n",
        "    \"\"\"Convert filename to valid C variable name.\"\"\"\n",
        "    return re.sub(r'[^a-zA-Z0-9]+', '_', name)\n",
        "\n",
        "def convert_to_c_source(input_file, output_file, bytes_per_line=12):\n",
        "    \"\"\"Convert binary file to C source array.\"\"\"\n",
        "    var_name = sanitize_name(os.path.basename(input_file))\n",
        "    \n",
        "    with open(input_file, 'rb') as f_in:\n",
        "        content = f_in.read()\n",
        "    \n",
        "    with open(output_file, 'w') as f_out:\n",
        "        f_out.write(f\"const unsigned char {var_name}[] = {{\\n  \")\n",
        "        \n",
        "        # Write bytes in hex format\n",
        "        for i, byte in enumerate(content):\n",
        "            if i > 0 and i % bytes_per_line == 0:\n",
        "                f_out.write(\"\\n  \")\n",
        "            f_out.write(f\"0x{byte:02x}, \")\n",
        "        \n",
        "        f_out.write(f\"\\n}};\\n\")\n",
        "        f_out.write(f\"const unsigned int {var_name}_len = {len(content)};\\n\")\n"
      ]
    },
    {
      "cell_type": "markdown",
      "metadata": {},
      "source": [
        "## Convert to Ethos-U NPU model\n",
        "\n",
        "Optionally convert the model for targets featuring the Ethos-U NPU. "
      ]
    },
    {
      "cell_type": "code",
      "execution_count": null,
      "metadata": {},
      "outputs": [],
      "source": [
        "import site\n",
        " \n",
        "# Get the site-packages path to find vela\n",
        "site_packages_path = site.getsitepackages()[0]\n",
        "print(site_packages_path)\n",
        " \n",
        "# Construct the installation path of vela\n",
        "if os.name == 'nt':\n",
        "    velapath = os.path.normpath(os.path.join(site_packages_path, 'Scripts/vela'))\n",
        "else:\n",
        "    velapath = os.path.join(os.path.dirname(os.path.dirname(os.path.dirname(site_packages_path))), 'bin/vela')\n",
        " \n",
        "# Convert the model to a Vela model\n",
        "!{velapath} models/model_int8.tflite --output-dir models_vela --verbose-operators\n",
        " \n",
        "convert_to_c_source (\"models_vela/model_int8_vela.tflite\", \"user_model.c\")"
      ]
    },
    {
      "cell_type": "code",
      "execution_count": null,
      "metadata": {},
      "outputs": [],
      "source": [
        "#Display the models_vela/model_int8_summary_Ethos_U55_High_End_Embedded.csv convertion metrics\n",
        "df = pd.read_csv(\"models_vela/model_int8_summary_Ethos_U55_High_End_Embedded.csv\")\n",
        "df"
      ]
    },
    {
      "cell_type": "markdown",
      "metadata": {
        "id": "JvRy0ZyMhQOX"
      },
      "source": [
        "## Deploy to a Project\n",
        "\n",
        "Within this project, the model is copied into the Model layer in [`Model`] after the Jupyter Notebook executed successful. There is will be used by hello_world_test.cpp. "
      ]
    }
  ],
  "metadata": {
    "colab": {
      "name": "train_TFL-Micro_hello_world_model.ipynb",
      "provenance": []
    },
    "kernelspec": {
      "display_name": "Python 3",
      "language": "python",
      "name": "python3"
    },
    "language_info": {
      "codemirror_mode": {
        "name": "ipython",
        "version": 3
      },
      "file_extension": ".py",
      "mimetype": "text/x-python",
      "name": "python",
      "nbconvert_exporter": "python",
      "pygments_lexer": "ipython3",
      "version": "3.11.9"
    }
  },
  "nbformat": 4,
  "nbformat_minor": 0
}
